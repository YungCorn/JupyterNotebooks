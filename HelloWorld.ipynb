{
  "nbformat": 4,
  "nbformat_minor": 0,
  "metadata": {
    "colab": {
      "provenance": []
    },
    "kernelspec": {
      "name": "python3",
      "display_name": "Python 3"
    },
    "language_info": {
      "name": "python"
    }
  },
  "cells": [
    {
      "cell_type": "markdown",
      "source": [
        "# Hello world!\n",
        "This is my first Jupyter notebook. It's so easy to create!\n",
        "## Steps\n",
        "Here are the steps to create a Jupyter notebook:\n",
        "* Open Jupyter Notebook\n",
        "* Create a new notebook\n",
        "* Type some code\n",
        "* Run the code\n",
        "* Save the notebook\n",
        "Enjoy creating your own notebooks!"
      ],
      "metadata": {
        "id": "R8bfft2dxjZE"
      }
    },
    {
      "cell_type": "code",
      "source": [
        "print(\"Hello World!\")"
      ],
      "metadata": {
        "colab": {
          "base_uri": "https://localhost:8080/"
        },
        "id": "VJ2k6Y_MxuBF",
        "outputId": "7807ce68-8dda-408a-9035-5acdbbca7c37"
      },
      "execution_count": 1,
      "outputs": [
        {
          "output_type": "stream",
          "name": "stdout",
          "text": [
            "Hello World!\n"
          ]
        }
      ]
    }
  ]
}